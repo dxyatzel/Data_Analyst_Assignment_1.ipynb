{
  "cells": [
    {
      "cell_type": "markdown",
      "metadata": {
        "id": "aLnNZc0IvUn3"
      },
      "source": [
        "#Data Analyst Assignment"
      ]
    },
    {
      "cell_type": "markdown",
      "metadata": {
        "id": "G26Ao7nQvahf"
      },
      "source": [
        "## Introduction\n",
        "\n",
        "You are working with a US retail customer on a pilot deployment.  They are using technology to track their merchandise throughout their supply chain.  The flow of their supply is:\n",
        "\n",
        "*   **DC 1:**  Orders are filled and palletized.\n",
        "*   **Truck:** Pallets travel from the DC 1 to DC 2 via semi-truck.\n",
        "*   **DC 2:**  Pallets are unloaded, and additional merchandise may be added.  They are then reloaded onto a new truck.\n",
        "*   **Truck:** Pallets travel from DC 2 to the Store.\n",
        "*   **Store:** Pallets are unloaded, cases are removed, and stocked, and the empty cases are left behind the building awaiting pickup.\n",
        "\n",
        "Your job is to dig into the data and find compelling insights to show the value fo the technology and help move the contract from a pilot into a full scaled deployment.\n",
        "\n",
        "\n",
        "\n",
        "---"
      ]
    },
    {
      "cell_type": "markdown",
      "metadata": {
        "id": "QLGYgyeQwO00"
      },
      "source": [
        "## Part 0: Imports\n",
        "\n",
        "Import necessary packages and"
      ]
    },
    {
      "cell_type": "code",
      "execution_count": null,
      "metadata": {
        "id": "dOSZ-z9degpC",
        "colab": {
          "base_uri": "https://localhost:8080/"
        },
        "outputId": "a81a724c-050c-4db9-a7f9-2f833f24c69e"
      },
      "outputs": [
        {
          "output_type": "stream",
          "name": "stdout",
          "text": [
            "Primeras filas del DataFrame:\n",
            "  asset_type  asset_id                           tag_id  Site            Zone  \\\n",
            "0       tote         2  (01)00850027865010(21)0082T0219  DC 1  dock_doors_DC1   \n",
            "1       tote         2  (01)00850027865010(21)0082T0219  DC 1  dock_doors_DC1   \n",
            "2       tote         2  (01)00850027865010(21)0082T0219  DC 1  dock_doors_DC1   \n",
            "3       tote         2  (01)00850027865010(21)0082T0219  DC 1  dock_doors_DC1   \n",
            "4       tote         2  (01)00850027865010(21)0082T0670  DC 1  dock_doors_DC1   \n",
            "\n",
            "      device_id                time_est       lat       lng  Temperature_C  \\\n",
            "0  7F9A8353E973 2022-08-02 11:59:26.628  47.79158 -65.68902           23.0   \n",
            "1  EC5B0499234F 2022-08-02 12:00:22.660  47.79158 -65.68902           23.0   \n",
            "2  7F9A8353E973 2022-08-02 12:01:11.234  47.79158 -65.68902           23.0   \n",
            "3  3D8B2BDB8673 2022-08-02 13:47:58.172  47.79158 -65.68902           23.5   \n",
            "4  7F9A8353E973 2022-08-02 11:58:55.049  47.79158 -65.68902           23.0   \n",
            "\n",
            "   Temperature_F  \n",
            "0           73.4  \n",
            "1           73.4  \n",
            "2           73.4  \n",
            "3           74.3  \n",
            "4           73.4  \n",
            "\n",
            "Resumen estadístico de las columnas numéricas:\n",
            "            asset_id            lat            lng  Temperature_C  \\\n",
            "count  130061.000000  130061.000000  130061.000000  130061.000000   \n",
            "mean      105.184475      47.760258     -65.668955      25.874445   \n",
            "std        61.459262       0.019223       0.049597       2.795208   \n",
            "min         2.000000      47.748780     -65.762200      19.000000   \n",
            "25%        58.000000      47.749230     -65.641010      24.000000   \n",
            "50%        84.000000      47.749230     -65.641010      25.000000   \n",
            "75%       167.000000      47.749388     -65.641010      27.500000   \n",
            "max       205.000000      47.805010     -65.640330      44.000000   \n",
            "\n",
            "       Temperature_F  \n",
            "count  130061.000000  \n",
            "mean       78.574000  \n",
            "std         5.031375  \n",
            "min        66.200000  \n",
            "25%        75.200000  \n",
            "50%        77.000000  \n",
            "75%        81.500000  \n",
            "max       111.200000  \n",
            "\n",
            "Información del DataFrame:\n",
            "<class 'pandas.core.frame.DataFrame'>\n",
            "RangeIndex: 130061 entries, 0 to 130060\n",
            "Data columns (total 11 columns):\n",
            " #   Column         Non-Null Count   Dtype         \n",
            "---  ------         --------------   -----         \n",
            " 0   asset_type     130061 non-null  object        \n",
            " 1   asset_id       130061 non-null  int64         \n",
            " 2   tag_id         130061 non-null  object        \n",
            " 3   Site           130061 non-null  object        \n",
            " 4   Zone           130061 non-null  object        \n",
            " 5   device_id      130061 non-null  object        \n",
            " 6   time_est       130061 non-null  datetime64[ns]\n",
            " 7   lat            130061 non-null  float64       \n",
            " 8   lng            130061 non-null  float64       \n",
            " 9   Temperature_C  130061 non-null  float64       \n",
            " 10  Temperature_F  130061 non-null  float64       \n",
            "dtypes: datetime64[ns](1), float64(4), int64(1), object(5)\n",
            "memory usage: 10.9+ MB\n",
            "None\n"
          ]
        }
      ],
      "source": [
        "# YOUR CODE HERE:\n",
        "import pandas as pd\n",
        "\n",
        "# Paso 0: Importar los paquetes necesarios\n",
        "\n",
        "# Importamos el conjunto de datos\n",
        "pd.read_excel('/content/Assignment_1.xlsx')\n",
        "df = pd.read_excel('Assignment_1.xlsx')\n",
        "\n",
        "# Mostrar las primeras filas del DataFrame para tener una idea de los datos\n",
        "print(\"Primeras filas del DataFrame:\")\n",
        "print(df.head())\n",
        "\n",
        "# Resumen estadístico de las columnas numéricas\n",
        "print(\"\\nResumen estadístico de las columnas numéricas:\")\n",
        "print(df.describe())\n",
        "\n",
        "# Información del DataFrame\n",
        "print(\"\\nInformación del DataFrame:\")\n",
        "print(df.info())"
      ]
    },
    {
      "cell_type": "markdown",
      "metadata": {
        "id": "ilure2qpw4lT"
      },
      "source": [
        "### Dataset Overview\n",
        "\n",
        "* Site:  A large space that could contain multiple readers. Ex: DC 1.\n",
        "* Zone:  Point of interest. These represent areas in which repeaters are installed. These can be thought of as sub-zones.  Ex: Dock Doors.\n",
        "* Asset ID: The unique ID of the asset.\n",
        "* Asset Type: The type of thing that is detected (ie tote).\n",
        "* Device ID: The unique gateway reader ID that detected the device in the zone (there can be multiple in one zone).\n",
        "* Time est: The time in EST.\n",
        "* Lon: Longituge\n",
        "* Lat: Latitude\n",
        "* Temperature_C / F: Temperature in Celsius, Fahrentheit"
      ]
    },
    {
      "cell_type": "markdown",
      "metadata": {
        "id": "0PcG1lJdwopq"
      },
      "source": [
        "## PART 1: Data Overview"
      ]
    },
    {
      "cell_type": "markdown",
      "metadata": {
        "id": "tLLUIhxZ0wvF"
      },
      "source": [
        "### Question 1:\n",
        "\n",
        "* How many unique cases were we tracking throughout this pilot. (1 pt)\n",
        "* What are the unique zones we could see (1 pt)\n",
        "* How many POI's are in each Zone. (2 pts)\n"
      ]
    },
    {
      "cell_type": "code",
      "execution_count": null,
      "metadata": {
        "id": "PDMC6O4h0uqD",
        "colab": {
          "base_uri": "https://localhost:8080/"
        },
        "outputId": "4323baa7-c5e4-497b-dd89-3381f1ec0671"
      },
      "outputs": [
        {
          "output_type": "stream",
          "name": "stdout",
          "text": [
            "Número de casos únicos rastreados a lo largo del piloto: 38\n",
            "\n",
            "Zonas únicas que podríamos ver: ['dock_doors_DC1' 'dock_doors_DC2' 'Forklift3_DC1' 'pallet_assembly_DC1'\n",
            " 'PhoneKit1Bridge' 'PhoneKit2Bridge' 'PhoneKit2GW' 'point_of_sale_Store'\n",
            " 'receiving_Store' 'staging_DC1' 'staging_DC2' 'store_back_Store'\n",
            " 'store_front_Store' 'Forklift1_DC1' 'PhoneKit1GW']\n",
            "\n",
            "Puntos de interés en cada zona:\n",
            "Zone\n",
            "Forklift1_DC1          1\n",
            "Forklift3_DC1          1\n",
            "PhoneKit1Bridge        1\n",
            "PhoneKit1GW            1\n",
            "PhoneKit2Bridge        1\n",
            "PhoneKit2GW            1\n",
            "dock_doors_DC1         4\n",
            "dock_doors_DC2         3\n",
            "pallet_assembly_DC1    2\n",
            "point_of_sale_Store    2\n",
            "receiving_Store        3\n",
            "staging_DC1            5\n",
            "staging_DC2            4\n",
            "store_back_Store       3\n",
            "store_front_Store      6\n",
            "Name: device_id, dtype: int64\n"
          ]
        }
      ],
      "source": [
        "# YOUR CODE HERE:\n",
        "import pandas as pd\n",
        "\n",
        "# Paso 0: Importar los paquetes necesarios y cargar el archivo XLSX en un DataFrame\n",
        "file_path = \"/Assignment_1.xlsx\"\n",
        "pd.read_excel('/content/Assignment_1.xlsx')\n",
        "df = pd.read_excel('Assignment_1.xlsx')\n",
        "\n",
        "# Pregunta 1: ¿Cuántos casos únicos rastreamos a lo largo de este piloto?\n",
        "casos_unicos = df['device_id'].nunique()\n",
        "print(\"Número de casos únicos rastreados a lo largo del piloto:\", casos_unicos)\n",
        "\n",
        "# ¿Cuáles son las zonas únicas que podríamos ver?\n",
        "zonas_unicas = df['Zone'].unique()\n",
        "print(\"\\nZonas únicas que podríamos ver:\", zonas_unicas)\n",
        "\n",
        "# Cuántos puntos de interés hay en cada zona?\n",
        "puntos_por_zona = df.groupby('Zone')['device_id'].nunique()\n",
        "print(\"\\nPuntos de interés en cada zona:\")\n",
        "print(puntos_por_zona)"
      ]
    },
    {
      "cell_type": "markdown",
      "metadata": {
        "id": "5SaHgmjN1sfO"
      },
      "source": [
        "### Question 2:\n",
        "\n",
        "* What is the temperature range we see?  (1pt)\n",
        "* Where is temperature the highest and lowest (1pt)"
      ]
    },
    {
      "cell_type": "code",
      "execution_count": null,
      "metadata": {
        "id": "Yv6mfo8K1_uD",
        "colab": {
          "base_uri": "https://localhost:8080/"
        },
        "outputId": "e5c9212f-7754-4d43-c3a0-0dd8ce42cf20"
      },
      "outputs": [
        {
          "output_type": "stream",
          "name": "stdout",
          "text": [
            "Rango de temperatura: 25.0 grados Celsius\n",
            "\n",
            "Temperatura más baja:\n",
            "Site                        Store\n",
            "Zone             store_back_Store\n",
            "Temperature_C                19.0\n",
            "Name: 92279, dtype: object\n",
            "\n",
            "Temperatura más alta:\n",
            "Site                       Store\n",
            "Zone             receiving_Store\n",
            "Temperature_C               44.0\n",
            "Name: 57195, dtype: object\n"
          ]
        }
      ],
      "source": [
        "# YOUR CODE HERE:\n",
        "import pandas as pd\n",
        "\n",
        "# Paso 0: Importar los paquetes necesarios y cargar el archivo XLSX en un DataFrame\n",
        "file_path = \"/Assignment_1.xlsx\"\n",
        "pd.read_excel('/content/Assignment_1.xlsx')\n",
        "df = pd.read_excel('Assignment_1.xlsx')\n",
        "\n",
        "# Pregunta 2: ¿Cuál es el rango de temperatura que vemos?\n",
        "temperatura_minima = df['Temperature_C'].min()\n",
        "temperatura_maxima = df['Temperature_C'].max()\n",
        "rango_temperatura = temperatura_maxima - temperatura_minima\n",
        "print(\"Rango de temperatura:\", rango_temperatura, \"grados Celsius\")\n",
        "\n",
        "# ¿Dónde está la temperatura más alta y más baja?\n",
        "indice_temperatura_minima = df['Temperature_C'].idxmin()\n",
        "indice_temperatura_maxima = df['Temperature_C'].idxmax()\n",
        "fila_temperatura_minima = df.loc[indice_temperatura_minima]\n",
        "fila_temperatura_maxima = df.loc[indice_temperatura_maxima]\n",
        "\n",
        "print(\"\\nTemperatura más baja:\")\n",
        "print(fila_temperatura_minima[['Site', 'Zone', 'Temperature_C']])\n",
        "print(\"\\nTemperatura más alta:\")\n",
        "print(fila_temperatura_maxima[['Site', 'Zone', 'Temperature_C']])"
      ]
    },
    {
      "cell_type": "markdown",
      "metadata": {
        "id": "83ZytoZ02Oih"
      },
      "source": [
        "## Part 2: The Journey of a Case"
      ]
    },
    {
      "cell_type": "markdown",
      "metadata": {
        "id": "LT32Svy42BR8"
      },
      "source": [
        "### Question 3:\n",
        "\n",
        "* Create a visualization that shows where a case was at over time at the zone or POI level. Imagine that this would be included in your presentation to the customer. (Non techical audience) (3 pts)"
      ]
    },
    {
      "cell_type": "code",
      "execution_count": null,
      "metadata": {
        "id": "dVuYYJMB2t_I",
        "colab": {
          "base_uri": "https://localhost:8080/",
          "height": 373
        },
        "outputId": "e6f19221-4fae-402b-deed-331ac1f463b8"
      },
      "outputs": [
        {
          "output_type": "error",
          "ename": "ValueError",
          "evalue": "Could not interpret value `Lon` for `x`. An entry with this name does not appear in `data`.",
          "traceback": [
            "\u001b[0;31m---------------------------------------------------------------------------\u001b[0m",
            "\u001b[0;31mValueError\u001b[0m                                Traceback (most recent call last)",
            "\u001b[0;32m<ipython-input-8-31adea0a69a8>\u001b[0m in \u001b[0;36m<cell line: 11>\u001b[0;34m()\u001b[0m\n\u001b[1;32m      9\u001b[0m \u001b[0;31m# Crear la visualización\u001b[0m\u001b[0;34m\u001b[0m\u001b[0;34m\u001b[0m\u001b[0m\n\u001b[1;32m     10\u001b[0m \u001b[0mplt\u001b[0m\u001b[0;34m.\u001b[0m\u001b[0mfigure\u001b[0m\u001b[0;34m(\u001b[0m\u001b[0mfigsize\u001b[0m\u001b[0;34m=\u001b[0m\u001b[0;34m(\u001b[0m\u001b[0;36m10\u001b[0m\u001b[0;34m,\u001b[0m \u001b[0;36m6\u001b[0m\u001b[0;34m)\u001b[0m\u001b[0;34m)\u001b[0m\u001b[0;34m\u001b[0m\u001b[0;34m\u001b[0m\u001b[0m\n\u001b[0;32m---> 11\u001b[0;31m \u001b[0msns\u001b[0m\u001b[0;34m.\u001b[0m\u001b[0mscatterplot\u001b[0m\u001b[0;34m(\u001b[0m\u001b[0mdata\u001b[0m\u001b[0;34m=\u001b[0m\u001b[0mdf\u001b[0m\u001b[0;34m,\u001b[0m \u001b[0mx\u001b[0m\u001b[0;34m=\u001b[0m\u001b[0;34m'Lon'\u001b[0m\u001b[0;34m,\u001b[0m \u001b[0my\u001b[0m\u001b[0;34m=\u001b[0m\u001b[0;34m'Lat'\u001b[0m\u001b[0;34m,\u001b[0m \u001b[0mhue\u001b[0m\u001b[0;34m=\u001b[0m\u001b[0;34m'Zone'\u001b[0m\u001b[0;34m,\u001b[0m \u001b[0mpalette\u001b[0m\u001b[0;34m=\u001b[0m\u001b[0;34m'viridis'\u001b[0m\u001b[0;34m,\u001b[0m \u001b[0mlegend\u001b[0m\u001b[0;34m=\u001b[0m\u001b[0;34m'full'\u001b[0m\u001b[0;34m)\u001b[0m\u001b[0;34m\u001b[0m\u001b[0;34m\u001b[0m\u001b[0m\n\u001b[0m\u001b[1;32m     12\u001b[0m \u001b[0mplt\u001b[0m\u001b[0;34m.\u001b[0m\u001b[0mtitle\u001b[0m\u001b[0;34m(\u001b[0m\u001b[0;34m'Ubicación de los casos a lo largo del tiempo por Zona'\u001b[0m\u001b[0;34m)\u001b[0m\u001b[0;34m\u001b[0m\u001b[0;34m\u001b[0m\u001b[0m\n\u001b[1;32m     13\u001b[0m \u001b[0mplt\u001b[0m\u001b[0;34m.\u001b[0m\u001b[0mxlabel\u001b[0m\u001b[0;34m(\u001b[0m\u001b[0;34m'Longitud'\u001b[0m\u001b[0;34m)\u001b[0m\u001b[0;34m\u001b[0m\u001b[0;34m\u001b[0m\u001b[0m\n",
            "\u001b[0;32m/usr/local/lib/python3.10/dist-packages/seaborn/relational.py\u001b[0m in \u001b[0;36mscatterplot\u001b[0;34m(data, x, y, hue, size, style, palette, hue_order, hue_norm, sizes, size_order, size_norm, markers, style_order, legend, ax, **kwargs)\u001b[0m\n\u001b[1;32m    608\u001b[0m ):\n\u001b[1;32m    609\u001b[0m \u001b[0;34m\u001b[0m\u001b[0m\n\u001b[0;32m--> 610\u001b[0;31m     p = _ScatterPlotter(\n\u001b[0m\u001b[1;32m    611\u001b[0m         \u001b[0mdata\u001b[0m\u001b[0;34m=\u001b[0m\u001b[0mdata\u001b[0m\u001b[0;34m,\u001b[0m\u001b[0;34m\u001b[0m\u001b[0;34m\u001b[0m\u001b[0m\n\u001b[1;32m    612\u001b[0m         \u001b[0mvariables\u001b[0m\u001b[0;34m=\u001b[0m\u001b[0mdict\u001b[0m\u001b[0;34m(\u001b[0m\u001b[0mx\u001b[0m\u001b[0;34m=\u001b[0m\u001b[0mx\u001b[0m\u001b[0;34m,\u001b[0m \u001b[0my\u001b[0m\u001b[0;34m=\u001b[0m\u001b[0my\u001b[0m\u001b[0;34m,\u001b[0m \u001b[0mhue\u001b[0m\u001b[0;34m=\u001b[0m\u001b[0mhue\u001b[0m\u001b[0;34m,\u001b[0m \u001b[0msize\u001b[0m\u001b[0;34m=\u001b[0m\u001b[0msize\u001b[0m\u001b[0;34m,\u001b[0m \u001b[0mstyle\u001b[0m\u001b[0;34m=\u001b[0m\u001b[0mstyle\u001b[0m\u001b[0;34m)\u001b[0m\u001b[0;34m,\u001b[0m\u001b[0;34m\u001b[0m\u001b[0;34m\u001b[0m\u001b[0m\n",
            "\u001b[0;32m/usr/local/lib/python3.10/dist-packages/seaborn/relational.py\u001b[0m in \u001b[0;36m__init__\u001b[0;34m(self, data, variables, legend)\u001b[0m\n\u001b[1;32m    389\u001b[0m         )\n\u001b[1;32m    390\u001b[0m \u001b[0;34m\u001b[0m\u001b[0m\n\u001b[0;32m--> 391\u001b[0;31m         \u001b[0msuper\u001b[0m\u001b[0;34m(\u001b[0m\u001b[0;34m)\u001b[0m\u001b[0;34m.\u001b[0m\u001b[0m__init__\u001b[0m\u001b[0;34m(\u001b[0m\u001b[0mdata\u001b[0m\u001b[0;34m=\u001b[0m\u001b[0mdata\u001b[0m\u001b[0;34m,\u001b[0m \u001b[0mvariables\u001b[0m\u001b[0;34m=\u001b[0m\u001b[0mvariables\u001b[0m\u001b[0;34m)\u001b[0m\u001b[0;34m\u001b[0m\u001b[0;34m\u001b[0m\u001b[0m\n\u001b[0m\u001b[1;32m    392\u001b[0m \u001b[0;34m\u001b[0m\u001b[0m\n\u001b[1;32m    393\u001b[0m         \u001b[0mself\u001b[0m\u001b[0;34m.\u001b[0m\u001b[0mlegend\u001b[0m \u001b[0;34m=\u001b[0m \u001b[0mlegend\u001b[0m\u001b[0;34m\u001b[0m\u001b[0;34m\u001b[0m\u001b[0m\n",
            "\u001b[0;32m/usr/local/lib/python3.10/dist-packages/seaborn/_base.py\u001b[0m in \u001b[0;36m__init__\u001b[0;34m(self, data, variables)\u001b[0m\n\u001b[1;32m    632\u001b[0m         \u001b[0;31m# information for numeric axes would be information about log scales.\u001b[0m\u001b[0;34m\u001b[0m\u001b[0;34m\u001b[0m\u001b[0m\n\u001b[1;32m    633\u001b[0m         \u001b[0mself\u001b[0m\u001b[0;34m.\u001b[0m\u001b[0m_var_ordered\u001b[0m \u001b[0;34m=\u001b[0m \u001b[0;34m{\u001b[0m\u001b[0;34m\"x\"\u001b[0m\u001b[0;34m:\u001b[0m \u001b[0;32mFalse\u001b[0m\u001b[0;34m,\u001b[0m \u001b[0;34m\"y\"\u001b[0m\u001b[0;34m:\u001b[0m \u001b[0;32mFalse\u001b[0m\u001b[0;34m}\u001b[0m  \u001b[0;31m# alt., used DefaultDict\u001b[0m\u001b[0;34m\u001b[0m\u001b[0;34m\u001b[0m\u001b[0m\n\u001b[0;32m--> 634\u001b[0;31m         \u001b[0mself\u001b[0m\u001b[0;34m.\u001b[0m\u001b[0massign_variables\u001b[0m\u001b[0;34m(\u001b[0m\u001b[0mdata\u001b[0m\u001b[0;34m,\u001b[0m \u001b[0mvariables\u001b[0m\u001b[0;34m)\u001b[0m\u001b[0;34m\u001b[0m\u001b[0;34m\u001b[0m\u001b[0m\n\u001b[0m\u001b[1;32m    635\u001b[0m \u001b[0;34m\u001b[0m\u001b[0m\n\u001b[1;32m    636\u001b[0m         \u001b[0;31m# TODO Lots of tests assume that these are called to initialize the\u001b[0m\u001b[0;34m\u001b[0m\u001b[0;34m\u001b[0m\u001b[0m\n",
            "\u001b[0;32m/usr/local/lib/python3.10/dist-packages/seaborn/_base.py\u001b[0m in \u001b[0;36massign_variables\u001b[0;34m(self, data, variables)\u001b[0m\n\u001b[1;32m    677\u001b[0m             \u001b[0;31m# to centralize / standardize data consumption logic.\u001b[0m\u001b[0;34m\u001b[0m\u001b[0;34m\u001b[0m\u001b[0m\n\u001b[1;32m    678\u001b[0m             \u001b[0mself\u001b[0m\u001b[0;34m.\u001b[0m\u001b[0minput_format\u001b[0m \u001b[0;34m=\u001b[0m \u001b[0;34m\"long\"\u001b[0m\u001b[0;34m\u001b[0m\u001b[0;34m\u001b[0m\u001b[0m\n\u001b[0;32m--> 679\u001b[0;31m             \u001b[0mplot_data\u001b[0m \u001b[0;34m=\u001b[0m \u001b[0mPlotData\u001b[0m\u001b[0;34m(\u001b[0m\u001b[0mdata\u001b[0m\u001b[0;34m,\u001b[0m \u001b[0mvariables\u001b[0m\u001b[0;34m)\u001b[0m\u001b[0;34m\u001b[0m\u001b[0;34m\u001b[0m\u001b[0m\n\u001b[0m\u001b[1;32m    680\u001b[0m             \u001b[0mframe\u001b[0m \u001b[0;34m=\u001b[0m \u001b[0mplot_data\u001b[0m\u001b[0;34m.\u001b[0m\u001b[0mframe\u001b[0m\u001b[0;34m\u001b[0m\u001b[0;34m\u001b[0m\u001b[0m\n\u001b[1;32m    681\u001b[0m             \u001b[0mnames\u001b[0m \u001b[0;34m=\u001b[0m \u001b[0mplot_data\u001b[0m\u001b[0;34m.\u001b[0m\u001b[0mnames\u001b[0m\u001b[0;34m\u001b[0m\u001b[0;34m\u001b[0m\u001b[0m\n",
            "\u001b[0;32m/usr/local/lib/python3.10/dist-packages/seaborn/_core/data.py\u001b[0m in \u001b[0;36m__init__\u001b[0;34m(self, data, variables)\u001b[0m\n\u001b[1;32m     56\u001b[0m \u001b[0;34m\u001b[0m\u001b[0m\n\u001b[1;32m     57\u001b[0m         \u001b[0mdata\u001b[0m \u001b[0;34m=\u001b[0m \u001b[0mhandle_data_source\u001b[0m\u001b[0;34m(\u001b[0m\u001b[0mdata\u001b[0m\u001b[0;34m)\u001b[0m\u001b[0;34m\u001b[0m\u001b[0;34m\u001b[0m\u001b[0m\n\u001b[0;32m---> 58\u001b[0;31m         \u001b[0mframe\u001b[0m\u001b[0;34m,\u001b[0m \u001b[0mnames\u001b[0m\u001b[0;34m,\u001b[0m \u001b[0mids\u001b[0m \u001b[0;34m=\u001b[0m \u001b[0mself\u001b[0m\u001b[0;34m.\u001b[0m\u001b[0m_assign_variables\u001b[0m\u001b[0;34m(\u001b[0m\u001b[0mdata\u001b[0m\u001b[0;34m,\u001b[0m \u001b[0mvariables\u001b[0m\u001b[0;34m)\u001b[0m\u001b[0;34m\u001b[0m\u001b[0;34m\u001b[0m\u001b[0m\n\u001b[0m\u001b[1;32m     59\u001b[0m \u001b[0;34m\u001b[0m\u001b[0m\n\u001b[1;32m     60\u001b[0m         \u001b[0mself\u001b[0m\u001b[0;34m.\u001b[0m\u001b[0mframe\u001b[0m \u001b[0;34m=\u001b[0m \u001b[0mframe\u001b[0m\u001b[0;34m\u001b[0m\u001b[0;34m\u001b[0m\u001b[0m\n",
            "\u001b[0;32m/usr/local/lib/python3.10/dist-packages/seaborn/_core/data.py\u001b[0m in \u001b[0;36m_assign_variables\u001b[0;34m(self, data, variables)\u001b[0m\n\u001b[1;32m    230\u001b[0m                 \u001b[0;32melse\u001b[0m\u001b[0;34m:\u001b[0m\u001b[0;34m\u001b[0m\u001b[0;34m\u001b[0m\u001b[0m\n\u001b[1;32m    231\u001b[0m                     \u001b[0merr\u001b[0m \u001b[0;34m+=\u001b[0m \u001b[0;34m\"An entry with this name does not appear in `data`.\"\u001b[0m\u001b[0;34m\u001b[0m\u001b[0;34m\u001b[0m\u001b[0m\n\u001b[0;32m--> 232\u001b[0;31m                 \u001b[0;32mraise\u001b[0m \u001b[0mValueError\u001b[0m\u001b[0;34m(\u001b[0m\u001b[0merr\u001b[0m\u001b[0;34m)\u001b[0m\u001b[0;34m\u001b[0m\u001b[0;34m\u001b[0m\u001b[0m\n\u001b[0m\u001b[1;32m    233\u001b[0m \u001b[0;34m\u001b[0m\u001b[0m\n\u001b[1;32m    234\u001b[0m             \u001b[0;32melse\u001b[0m\u001b[0;34m:\u001b[0m\u001b[0;34m\u001b[0m\u001b[0;34m\u001b[0m\u001b[0m\n",
            "\u001b[0;31mValueError\u001b[0m: Could not interpret value `Lon` for `x`. An entry with this name does not appear in `data`."
          ]
        },
        {
          "output_type": "display_data",
          "data": {
            "text/plain": [
              "<Figure size 1000x600 with 0 Axes>"
            ]
          },
          "metadata": {}
        }
      ],
      "source": [
        "# YOUR CODE HERE:\n",
        "import pandas as pd\n",
        "import seaborn as sns\n",
        "import matplotlib.pyplot as plt\n",
        "\n",
        "# Paso 0: Importar los paquetes necesarios y cargar el archivo XLSX en un DataFrame\n",
        "file_path = \"/Assignment_1.xlsx\"\n",
        "pd.read_excel('/content/Assignment_1.xlsx')\n",
        "df = pd.read_excel('Assignment_1.xlsx')\n",
        "\n",
        "# Crear la visualización\n",
        "plt.figure(figsize=(10, 6))\n",
        "sns.scatterplot(data=df, x='Lon', y='Lat', hue='Zone', palette='viridis', legend='full')\n",
        "plt.title('Ubicación de los casos a lo largo del tiempo por Zona')\n",
        "plt.xlabel('Longitud')\n",
        "plt.ylabel('Latitud')\n",
        "plt.legend(title='Zone', loc='upper right')\n",
        "plt.grid(True)\n",
        "plt.show()"
      ]
    },
    {
      "cell_type": "markdown",
      "metadata": {
        "id": "n7nBbEZ42vvP"
      },
      "source": [
        "### Question 4:\n",
        "\n",
        "* Visualize how the temperatue changes over time along its journey.  Imagine that this would be included in your presentation to the customer. (Non techical audience) (4 pts)\n",
        "\n"
      ]
    },
    {
      "cell_type": "code",
      "execution_count": null,
      "metadata": {
        "id": "rZ6EgZDa3YCv",
        "colab": {
          "base_uri": "https://localhost:8080/",
          "height": 564
        },
        "outputId": "2e6ae748-bc65-4c87-cf21-60a1ddcc87d3"
      },
      "outputs": [
        {
          "output_type": "display_data",
          "data": {
            "text/plain": [
              "<Figure size 1000x600 with 1 Axes>"
            ],
            "image/png": "[encoded data removed]"
          },
          "metadata": {}
        }
      ],
      "source": [
        "# YOUR CODE HERE:\n",
        "import pandas as pd\n",
        "import seaborn as sns\n",
        "import matplotlib.pyplot as plt\n",
        "\n",
        "# Paso 0: Importar los paquetes necesarios y cargar el archivo XLSX en un DataFrame\n",
        "file_path = \"/Assignment_1.xlsx\"\n",
        "pd.read_excel('/content/Assignment_1.xlsx')\n",
        "df = pd.read_excel('Assignment_1.xlsx')\n",
        "\n",
        "# Crear la visualización\n",
        "plt.figure(figsize=(10, 6))\n",
        "sns.lineplot(data=df, x='time_est', y='Temperature_C')\n",
        "plt.title('Cambio de temperatura con el tiempo')\n",
        "plt.xlabel('time_est')\n",
        "plt.ylabel('Temperatura (°C)')\n",
        "plt.grid(True)\n",
        "plt.show()"
      ]
    },
    {
      "cell_type": "code",
      "source": [],
      "metadata": {
        "id": "hHROrecGug8_"
      },
      "execution_count": null,
      "outputs": []
    },
    {
      "cell_type": "markdown",
      "metadata": {
        "id": "jq6sZbij4n5g"
      },
      "source": [
        "### Question 5:\n",
        "* Visualize the lon lat data on a map to show how the case traveled.  You may incorporate any other additional information to make this more impactful. Imagine that this would be included in your presentation to the customer. (Non techical audience) (5 pts)\n",
        "\n",
        "**Do not worry if this looks like non-sense on a map.  Ex:  The trip may appear to occur over water or in a forest because this is a toy dataset.**"
      ]
    },
    {
      "cell_type": "code",
      "execution_count": null,
      "metadata": {
        "id": "S0NrgqkM5a3m"
      },
      "outputs": [],
      "source": [
        "# YOUR CODE HERE:\n",
        "import pandas as pd\n",
        "import folium\n",
        "\n",
        "# Paso 0: Importar los paquetes necesarios y cargar el archivo XLSX en un DataFrame\n",
        "file_path = \"/Asignment_1.xlsx\"\n",
        "df = pd.read_excel(file_path)\n",
        "\n",
        "# Crear un mapa centrado en la primera ubicación\n",
        "mapa = folium.Map(location=[df['Lat'].iloc[0], df['Lon'].iloc[0]], zoom_start=10)\n",
        "\n",
        "# Añadir marcadores para cada ubicación\n",
        "for index, row in df.iterrows():\n",
        "    folium.Marker(location=[row['Lat'], row['Lon']], popup=f\"{row['Site']} - {row['Zone']}\",\n",
        "                  icon=folium.Icon(color='blue', icon='info-sign')).add_to(mapa)\n",
        "\n",
        "# Añadir una línea que conecte las ubicaciones en orden de tiempo\n",
        "folium.PolyLine(locations=df[['Lat', 'Lon']].values, color='red', weight=2.5, opacity=0.7).add_to(mapa)\n",
        "\n",
        "# Mostrar el mapa\n",
        "mapa"
      ]
    },
    {
      "cell_type": "markdown",
      "metadata": {
        "id": "V5nvTftA3IrL"
      },
      "source": [
        "# Part 3: Customer Questions\n"
      ]
    },
    {
      "cell_type": "markdown",
      "metadata": {
        "id": "RLBee4li3gZ5"
      },
      "source": [
        "### Question 6:\n",
        "\n",
        "The customer wants to understand the efficieny of ther DC operations.\n",
        "* Based on what you see in the data, (all zones except for STORE), which parts of their operation are most & least \"efficient? (10 pts)"
      ]
    },
    {
      "cell_type": "code",
      "execution_count": null,
      "metadata": {
        "id": "9Ad7Wwa23HzQ"
      },
      "outputs": [],
      "source": [
        "# YOUR CODE HERE\n",
        "import pandas as pd\n",
        "\n",
        "# Paso 0: Importar los paquetes necesarios y cargar el archivo XLSX en un DataFrame\n",
        "file_path = \"/Asignment_1.xlsx\"\n",
        "df = pd.read_excel(file_path)\n",
        "\n",
        "# Paso 1: Filtrar las zonas que no sean TIENDA\n",
        "df_dc = df[df['Zone'] != 'TIENDA']\n",
        "\n",
        "# Paso 2: Calcular la duración del tiempo que pasa un caso en cada zona\n",
        "df_dc['Time est'] = pd.to_datetime(df_dc['Time est'])  # Convertir la columna 'Hora est' a formato datetime\n",
        "df_dc['Time salida'] = df_dc.groupby('Asset Type')['Time est'].shift(-1)  # Calcular la hora de salida\n",
        "df_dc['Duracion'] = (df_dc['Time salida'] - df_dc['Time est']).dt.total_seconds() / 60  # Calcular la duración en minutos\n",
        "\n",
        "# Paso 3: Calcular la duración promedio en cada zona\n",
        "duracion_promedio_por_zona = df_dc.groupby('Zone')['Duracion'].mean().sort_values(ascending=False)\n",
        "\n",
        "# Mostrar los resultados\n",
        "print(\"Duración promedio en cada zona (minutos):\")\n",
        "print(duracion_promedio_por_zona)"
      ]
    },
    {
      "cell_type": "markdown",
      "metadata": {
        "id": "KxsNLU4u4CT9"
      },
      "source": [
        "YOUR TEXT ANSWER HERE"
      ]
    },
    {
      "cell_type": "markdown",
      "metadata": {
        "id": "BAR8MQnp4KhD"
      },
      "source": [
        "### Question 7:\n",
        "\n",
        "The customer wants to understand the stocking efficiency in stores.\n",
        "* Based on what you see in the data, how quickly did the store unload and stock the merchandise. (5 pts)\n",
        "* How could this be converted in a KPI that a regional manager could track?  (5 pts)"
      ]
    },
    {
      "cell_type": "code",
      "execution_count": null,
      "metadata": {
        "id": "6yLtvhHB4ECp"
      },
      "outputs": [],
      "source": [
        "# YOUR CODE HERE\n",
        "file_path = \"/Asignment_1.xlsx\"\n",
        "df = pd.read_excel(file_path)\n",
        "\n",
        "# Paso 1: Filtrar los datos de la tienda\n",
        "df_tienda = df[df['Zone'] == 'TIENDA']\n",
        "\n",
        "# Paso 2: Calcular la duración del tiempo de descarga y almacenamiento en la tienda\n",
        "df_tienda['Time est'] = pd.to_datetime(df_tienda['Time est'])  # Convertir la columna 'Hora est' a formato datetime\n",
        "df_tienda['Time salida'] = df_tienda.groupby('Asset ID')['Time est'].shift(-1)  # Calcular la hora de salida\n",
        "df_tienda['Duracion'] = (df_tienda['Time salida'] - df_tienda['Time est']).dt.total_seconds() / 60  # Calcular la duración en minutos\n",
        "\n",
        "# Paso 3: Calcular la velocidad de descarga y almacenamiento en la tienda (mercancía por minuto)\n",
        "velocidad_descarga_almacenamiento = 1 / df_tienda['Duracion'].mean()\n",
        "\n",
        "# Mostrar los resultados\n",
        "print(\"Velocidad de descarga y almacenamiento en la tienda (mercancía por minuto):\", velocidad_descarga_almacenamiento)"
      ]
    },
    {
      "cell_type": "markdown",
      "metadata": {
        "id": "FrFLqjpC51rd"
      },
      "source": [
        "YOUR TEXT ANSWER HERE"
      ]
    },
    {
      "cell_type": "markdown",
      "metadata": {
        "id": "YY5cXCAlzX9M"
      },
      "source": [
        "### Question 8:\n",
        "\n",
        "Please explain what you would ask for and what you will do with this data, given that you can talk with the following people (no code needed):\n"
      ]
    },
    {
      "cell_type": "markdown",
      "metadata": {
        "id": "CsSJ9f2fzX9M"
      },
      "source": [
        "YOUR TEXT ANSWER HERE\n",
        "* a. X\n",
        "* b. Y\n",
        "\n",
        "Para la persona X:\n",
        "a. Pedir:\n",
        "   - Detalles específicos sobre los procesos actuales de gestión de inventario en los centros de distribución y tiendas.\n",
        "   - Información sobre los objetivos de eficiencia y rendimiento que la empresa espera alcanzar en sus operaciones de cadena de suministro.\n",
        "b. Acciones:\n",
        "   - Compartir los datos recopilados sobre la duración del tiempo que pasa un caso en cada zona de los centros de distribución, excluyendo la zona de tienda, para evaluar la eficiencia operativa.\n",
        "   - Discutir posibles mejoras en los procesos de gestión de inventario en los centros de distribución basadas en los insights obtenidos de los datos.\n",
        "\n",
        "Para la persona Y:\n",
        "a. Pedir:\n",
        "   - Detalles sobre los procesos de descarga y almacenamiento de mercancía en las tiendas.\n",
        "   - Información sobre los KPIs que la empresa utiliza actualmente para evaluar la eficiencia del almacenamiento en las tiendas.\n",
        "b. Acciones:\n",
        "   - Compartir los datos sobre la velocidad de descarga y almacenamiento de la mercancía en las tiendas, expresada como mercancía por minuto.\n",
        "   - Proponer la implementación de un nuevo KPI llamado \"Velocidad de Descarga y Almacenamiento en la Tienda\" para monitorear y mejorar la eficiencia del almacenamiento en las tiendas.\n",
        "   - Solicitar comentarios y sugerencias sobre cómo mejorar el proceso de almacenamiento en las tiendas para aumentar la eficiencia y optimizar los resultados.\n",
        "\n",
        "Es importante adaptar el enfoque y la discusión según el interés y el área de responsabilidad de cada persona (X y Y) para garantizar una comunicación efectiva y obtener el máximo valor de los datos."
      ]
    },
    {
      "cell_type": "markdown",
      "metadata": {
        "id": "U-xbReWjr-_B"
      },
      "source": [
        "## Part 4: Bonus Insights"
      ]
    },
    {
      "cell_type": "markdown",
      "metadata": {
        "id": "XslflGXnsDAF"
      },
      "source": [
        "### Question 8\n",
        "\n",
        "The customer is open to hearing about additional insights you found in the data above and beyond what they asked for.\n",
        "* Based on what you can see in the data, are there any other interesting insights that the customer may want to hear about? (Up to 15 bonus points)\n",
        "\n"
      ]
    },
    {
      "cell_type": "code",
      "execution_count": null,
      "metadata": {
        "id": "CWpCSu8lsCJL"
      },
      "outputs": [],
      "source": [
        "# YOUR CODE HERE\n",
        "# Another metrics that could be interesting would be temperature by time\n",
        "\n",
        "eventos_inusuales = df[df['Temperature_C'] > 30]\n",
        "print(\"\\nEventos inusuales de temperatura:\")\n",
        "print(eventos_inusuales)\n",
        "\n",
        "# Idea 4: Comparación con objetivos predefinidos\n",
        "objetivos_predefinidos = {\n",
        "    'Duracion_minima_zona': {'DC_1': 10, 'DC_2': 15},\n",
        "    'Velocidad_descarga_almacenamiento_objetivo': 0.5  # mercancía por minuto\n",
        "}\n",
        "# Comparar con objetivos predefinidos\n",
        "for objetivo, valores in objetivos_predefinidos.items():\n",
        "    print(f\"\\nComparación con el objetivo '{objetivo}':\")\n",
        "    if isinstance(valores, dict):\n",
        "        for zona, objetivo_valor in valores.items():\n",
        "            duracion_promedio = df[df['Zone'] == zona]['Duracion'].mean()\n",
        "            print(f\"Zone '{zona}': Duración promedio = {duracion_promedio} min, Objetivo = {objetivo_valor} min\")\n",
        "    else:\n",
        "        velocidad_promedio = df['Velocidad_descarga_almacenamiento'].mean()\n",
        "        print(f\"Velocidad promedio = {velocidad_promedio} (mercancía por minuto), Objetivo = {valores} (mercancía por minuto)\")"
      ]
    },
    {
      "cell_type": "markdown",
      "metadata": {
        "id": "EbkD8dTBuuj4"
      },
      "source": [
        "YOUR TEXT ANSWER HERE\n"
      ]
    },
    {
      "cell_type": "code",
      "source": [
        "from google.colab import files\n",
        "\n",
        "# Descarga el archivo\n",
        "files.download('Data_Analyst_Assignment_1.ipynb')"
      ],
      "metadata": {
        "colab": {
          "base_uri": "https://localhost:8080/",
          "height": 297
        },
        "id": "3mltkFUtuiQb",
        "outputId": "96d751a7-08a3-4431-b419-1aa6cf80ef68"
      },
      "execution_count": 1,
      "outputs": [
        {
          "output_type": "error",
          "ename": "FileNotFoundError",
          "evalue": "Cannot find file: Data_Analyst_Assignment_1.ipynb",
          "traceback": [
            "\u001b[0;31m---------------------------------------------------------------------------\u001b[0m",
            "\u001b[0;31mFileNotFoundError\u001b[0m                         Traceback (most recent call last)",
            "\u001b[0;32m<ipython-input-1-488a06af851a>\u001b[0m in \u001b[0;36m<cell line: 4>\u001b[0;34m()\u001b[0m\n\u001b[1;32m      2\u001b[0m \u001b[0;34m\u001b[0m\u001b[0m\n\u001b[1;32m      3\u001b[0m \u001b[0;31m# Descarga el archivo\u001b[0m\u001b[0;34m\u001b[0m\u001b[0;34m\u001b[0m\u001b[0m\n\u001b[0;32m----> 4\u001b[0;31m \u001b[0mfiles\u001b[0m\u001b[0;34m.\u001b[0m\u001b[0mdownload\u001b[0m\u001b[0;34m(\u001b[0m\u001b[0;34m'Data_Analyst_Assignment_1.ipynb'\u001b[0m\u001b[0;34m)\u001b[0m\u001b[0;34m\u001b[0m\u001b[0;34m\u001b[0m\u001b[0m\n\u001b[0m",
            "\u001b[0;32m/usr/local/lib/python3.10/dist-packages/google/colab/files.py\u001b[0m in \u001b[0;36mdownload\u001b[0;34m(filename)\u001b[0m\n\u001b[1;32m    223\u001b[0m   \u001b[0;32mif\u001b[0m \u001b[0;32mnot\u001b[0m \u001b[0m_os\u001b[0m\u001b[0;34m.\u001b[0m\u001b[0mpath\u001b[0m\u001b[0;34m.\u001b[0m\u001b[0mexists\u001b[0m\u001b[0;34m(\u001b[0m\u001b[0mfilename\u001b[0m\u001b[0;34m)\u001b[0m\u001b[0;34m:\u001b[0m\u001b[0;34m\u001b[0m\u001b[0;34m\u001b[0m\u001b[0m\n\u001b[1;32m    224\u001b[0m     \u001b[0mmsg\u001b[0m \u001b[0;34m=\u001b[0m \u001b[0;34m'Cannot find file: {}'\u001b[0m\u001b[0;34m.\u001b[0m\u001b[0mformat\u001b[0m\u001b[0;34m(\u001b[0m\u001b[0mfilename\u001b[0m\u001b[0;34m)\u001b[0m\u001b[0;34m\u001b[0m\u001b[0;34m\u001b[0m\u001b[0m\n\u001b[0;32m--> 225\u001b[0;31m     \u001b[0;32mraise\u001b[0m \u001b[0mFileNotFoundError\u001b[0m\u001b[0;34m(\u001b[0m\u001b[0mmsg\u001b[0m\u001b[0;34m)\u001b[0m  \u001b[0;31m# pylint: disable=undefined-variable\u001b[0m\u001b[0;34m\u001b[0m\u001b[0;34m\u001b[0m\u001b[0m\n\u001b[0m\u001b[1;32m    226\u001b[0m \u001b[0;34m\u001b[0m\u001b[0m\n\u001b[1;32m    227\u001b[0m   \u001b[0mcomm_manager\u001b[0m \u001b[0;34m=\u001b[0m \u001b[0m_IPython\u001b[0m\u001b[0;34m.\u001b[0m\u001b[0mget_ipython\u001b[0m\u001b[0;34m(\u001b[0m\u001b[0;34m)\u001b[0m\u001b[0;34m.\u001b[0m\u001b[0mkernel\u001b[0m\u001b[0;34m.\u001b[0m\u001b[0mcomm_manager\u001b[0m\u001b[0;34m\u001b[0m\u001b[0;34m\u001b[0m\u001b[0m\n",
            "\u001b[0;31mFileNotFoundError\u001b[0m: Cannot find file: Data_Analyst_Assignment_1.ipynb"
          ]
        }
      ]
    }
  ],
  "metadata": {
    "colab": {
      "provenance": []
    },
    "kernelspec": {
      "display_name": "Python 3.10.5 64-bit",
      "language": "python",
      "name": "python3"
    },
    "language_info": {
      "codemirror_mode": {
        "name": "ipython",
        "version": 3
      },
      "file_extension": ".py",
      "mimetype": "text/x-python",
      "name": "python",
      "nbconvert_exporter": "python",
      "pygments_lexer": "ipython3",
      "version": "3.10.5"
    },
    "vscode": {
      "interpreter": {
        "hash": "aee8b7b246df8f9039afb4144a1f6fd8d2ca17a180786b69acc140d282b71a49"
      }
    }
  },
  "nbformat": 4,
  "nbformat_minor": 0
}